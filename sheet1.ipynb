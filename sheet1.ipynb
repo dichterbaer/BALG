{
 "cells": [
  {
   "cell_type": "markdown",
   "metadata": {},
   "source": [
    "Imports\n"
   ]
  },
  {
   "cell_type": "code",
   "execution_count": 35,
   "metadata": {},
   "outputs": [],
   "source": [
    "import numpy as np\n",
    "import matplotlib.pyplot as plt\n",
    "import cv2\n",
    "import time"
   ]
  },
  {
   "cell_type": "markdown",
   "metadata": {},
   "source": [
    "Problem 1: Find Minimum of Convex Function\n"
   ]
  },
  {
   "cell_type": "code",
   "execution_count": 15,
   "metadata": {},
   "outputs": [
    {
     "data": {
      "image/png": "[encoded data removed]",
      "text/plain": [
       "<Figure size 432x288 with 1 Axes>"
      ]
     },
     "metadata": {
      "needs_background": "light"
     },
     "output_type": "display_data"
    }
   ],
   "source": [
    "#procedure which determines the minimum of a convex function f in the interval [a, b] using “trisection\" of the interval\n",
    "def trisection(f, left, right, tol):\n",
    "    while (right - left) > tol:\n",
    "        middle = (left + right)/2\n",
    "        lm = (left + middle)/2\n",
    "        rm = (middle + right)/2\n",
    "        if f(lm) < f(rm):\n",
    "            right = rm\n",
    "        else:\n",
    "            left = lm\n",
    "    return (left + right)/2\n",
    "\n",
    "\n",
    "\n",
    "def f_convex(x):\n",
    "    alpha = 1\n",
    "    beta = 2\n",
    "    return np.exp(-alpha*x)+np.power(x,beta)\n",
    "\n",
    "\n",
    "a = 0\n",
    "b = 1\n",
    "\n",
    "tol = 0.0001\n",
    "    \n",
    "minimum = trisection(f_convex,a,b,tol)\n",
    "\n",
    "x = np.linspace(0,1,100)\n",
    "y = f_convex(x)\n",
    "plt.plot(x,y)\n",
    "plt.plot(minimum,f_convex(minimum),'ro')\n",
    "plt.title(\"Find Minimum\")\n",
    "plt.xlabel(\"x\")\n",
    "plt.ylabel(\"y\")\n",
    "plt.legend([\"Convex Function\",\"Mimimum of Convex Function\"])\n",
    "plt.show()     "
   ]
  },
  {
   "cell_type": "markdown",
   "metadata": {},
   "source": [
    "Problem 2: Bresenham Algorithm"
   ]
  },
  {
   "cell_type": "code",
   "execution_count": 36,
   "metadata": {},
   "outputs": [
    {
     "data": {
      "image/png": "[encoded data removed]",
      "text/plain": [
       "<Figure size 432x288 with 1 Axes>"
      ]
     },
     "metadata": {
      "needs_background": "light"
     },
     "output_type": "display_data"
    }
   ],
   "source": [
    "#create blank image\n",
    "width = 20\n",
    "height = 30\n",
    "x = 0\n",
    "y = 0\n",
    "dx = width - x - 1\n",
    "dy = height - y - 1\n",
    "img = np.zeros((height,width,1), np.uint8)\n",
    "\n",
    "errorXdx = 0\n",
    "img[y,x] = 255\n",
    "while x < width-1: \n",
    "    x = x + 1\n",
    "    errorXdx = errorXdx + dy\n",
    "    if errorXdx > dx/2:\n",
    "        y = y + 1\n",
    "        errorXdx = errorXdx - dx\n",
    "    img[y,x] = 255\n",
    "    plt.imshow(img, cmap='gray')\n",
    "    plt.title(\"Bresenham's Line Algorithm\")\n",
    "    time.sleep(1.5)\n",
    "\n",
    "\n",
    "# plt.imshow(img, cmap='gray')\n",
    "# plt.title(\"Bresenham's Line Algorithm\")\n",
    "\n"
   ]
  }
 ],
 "metadata": {
  "kernelspec": {
   "display_name": "Python 3.9.7 64-bit",
   "language": "python",
   "name": "python3"
  },
  "language_info": {
   "codemirror_mode": {
    "name": "ipython",
    "version": 3
   },
   "file_extension": ".py",
   "mimetype": "text/x-python",
   "name": "python",
   "nbconvert_exporter": "python",
   "pygments_lexer": "ipython3",
   "version": "3.9.7"
  },
  "orig_nbformat": 4,
  "vscode": {
   "interpreter": {
    "hash": "25034407fed5d681614dac11a1c0537e8cb49e3a8883c071303eea01322943d9"
   }
  }
 },
 "nbformat": 4,
 "nbformat_minor": 2
}
